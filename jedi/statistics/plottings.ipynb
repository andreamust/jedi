{
 "cells": [
  {
   "cell_type": "code",
   "execution_count": 9,
   "outputs": [],
   "source": [
    "# Wikidata Humans' Statistics"
   ],
   "metadata": {
    "collapsed": false,
    "pycharm": {
     "name": "#%%\n"
    }
   }
  },
  {
   "cell_type": "markdown",
   "source": [
    "### Load the dataset"
   ],
   "metadata": {
    "collapsed": false,
    "pycharm": {
     "name": "#%% md\n"
    }
   }
  },
  {
   "cell_type": "code",
   "execution_count": 10,
   "metadata": {
    "pycharm": {
     "name": "#%%\n"
    }
   },
   "outputs": [
    {
     "name": "stderr",
     "output_type": "stream",
     "text": [
      "/var/folders/y6/881nbsns7rx5scbj8lx6ysym0000gn/T/ipykernel_39827/4139767829.py:6: FutureWarning: The error_bad_lines argument has been deprecated and will be removed in a future version. Use on_bad_lines in the future.\n",
      "\n",
      "\n",
      "  df_n = pd.read_csv('../../data/cleaned_humans.csv', error_bad_lines=False)\n",
      "b'Skipping line 2679700: expected 3 fields, saw 5\\n'\n",
      "b'Skipping line 8904898: expected 3 fields, saw 4\\n'\n",
      "b'Skipping line 15146184: expected 3 fields, saw 5\\n'\n",
      "b'Skipping line 27652100: expected 3 fields, saw 4\\n'\n",
      "b'Skipping line 52690410: expected 3 fields, saw 4\\n'\n",
      "b'Skipping line 58946441: expected 3 fields, saw 4\\n'\n",
      "b'Skipping line 65159488: expected 3 fields, saw 4\\n'\n",
      "b'Skipping line 115498199: expected 3 fields, saw 4\\n'\n",
      "b'Skipping line 121677304: expected 3 fields, saw 5\\n'\n",
      "b'Skipping line 128005457: expected 3 fields, saw 4\\n'\n",
      "b'Skipping line 134217761: expected 3 fields, saw 4\\n'\n",
      "b'Skipping line 165494330: expected 3 fields, saw 5\\n'\n",
      "b'Skipping line 178036364: expected 3 fields, saw 4\\n'\n",
      "b'Skipping line 190542144: expected 3 fields, saw 5\\n'\n",
      "b'Skipping line 203042511: expected 3 fields, saw 4\\n'\n",
      "b'Skipping line 234322954: expected 3 fields, saw 4\\n'\n",
      "b'Skipping line 240645960: expected 3 fields, saw 4\\n'\n",
      "b'Skipping line 253116949: expected 3 fields, saw 5\\n'\n",
      "b'Skipping line 259387707: expected 3 fields, saw 5\\n'\n",
      "b'Skipping line 271835708: expected 3 fields, saw 4\\n'\n",
      "b'Skipping line 290554027: expected 3 fields, saw 5\\n'\n",
      "b'Skipping line 296796600: expected 3 fields, saw 5\\n'\n",
      "b'Skipping line 303041484: expected 3 fields, saw 4\\n'\n"
     ]
    }
   ],
   "source": [
    "import pandas as pd\n",
    "# import matplotlib.pyplot as plt\n",
    "# import numpy as np\n",
    "# from scipy.sparse import csr_matrix\n",
    "\n",
    "df_n = pd.read_csv('../../data/cleaned_humans.csv', error_bad_lines=False)"
   ]
  },
  {
   "cell_type": "markdown",
   "source": [
    "## Scatter plot"
   ],
   "metadata": {
    "collapsed": false,
    "pycharm": {
     "name": "#%% md\n"
    }
   }
  },
  {
   "cell_type": "code",
   "execution_count": 11,
   "outputs": [
    {
     "data": {
      "text/plain": "<AxesSubplot:xlabel='s', ylabel='p'>"
     },
     "execution_count": 11,
     "metadata": {},
     "output_type": "execute_result"
    },
    {
     "data": {
      "text/plain": "<Figure size 432x288 with 1 Axes>",
      "image/png": "[encoded data removed]"
     },
     "metadata": {
      "needs_background": "light"
     },
     "output_type": "display_data"
    }
   ],
   "source": [
    "df_n.plot(kind='scatter',x='s',y='p') # scatter plot"
   ],
   "metadata": {
    "collapsed": false,
    "pycharm": {
     "name": "#%%\n"
    }
   }
  },
  {
   "cell_type": "markdown",
   "source": [
    "## Density Function"
   ],
   "metadata": {
    "collapsed": false,
    "pycharm": {
     "name": "#%% md\n"
    }
   }
  },
  {
   "cell_type": "code",
   "execution_count": null,
   "outputs": [],
   "source": [
    "df_n.plot(kind='density')  # estimate density function"
   ],
   "metadata": {
    "collapsed": false,
    "pycharm": {
     "name": "#%%\n",
     "is_executing": true
    }
   }
  },
  {
   "cell_type": "markdown",
   "source": [
    "## Histograms"
   ],
   "metadata": {
    "collapsed": false,
    "pycharm": {
     "name": "#%% md\n"
    }
   }
  },
  {
   "cell_type": "code",
   "execution_count": null,
   "outputs": [],
   "source": [
    "df_n.plot(kind='hist')  # histogram"
   ],
   "metadata": {
    "collapsed": false,
    "pycharm": {
     "name": "#%%\n",
     "is_executing": true
    }
   }
  }
 ],
 "metadata": {
  "kernelspec": {
   "display_name": "Python 3",
   "language": "python",
   "name": "python3"
  },
  "language_info": {
   "codemirror_mode": {
    "name": "ipython",
    "version": 3
   },
   "file_extension": ".py",
   "mimetype": "text/x-python",
   "name": "python",
   "nbconvert_exporter": "python",
   "pygments_lexer": "ipython3",
   "version": "3.7.0"
  }
 },
 "nbformat": 4,
 "nbformat_minor": 2
}