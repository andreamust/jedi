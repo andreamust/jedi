{
 "cells": [
  {
   "cell_type": "markdown",
   "source": [
    "## Get statistics about the human-related properties"
   ],
   "metadata": {
    "collapsed": false,
    "pycharm": {
     "name": "#%% md\n"
    }
   }
  },
  {
   "cell_type": "code",
   "execution_count": 1,
   "metadata": {
    "collapsed": true,
    "pycharm": {
     "name": "#%%\n"
    }
   },
   "outputs": [
    {
     "name": "stdout",
     "output_type": "stream",
     "text": [
      "There are 0\n"
     ]
    }
   ],
   "source": [
    "from joblib import load\n",
    "\n",
    "PROPERTIES = '../../data/properties_count.joblib'\n",
    "\n",
    "properties = load(PROPERTIES)\n",
    "\n",
    "print(f'There are {len(properties.keys())} properties')"
   ]
  }
 ],
 "metadata": {
  "kernelspec": {
   "display_name": "Python 3",
   "language": "python",
   "name": "python3"
  },
  "language_info": {
   "codemirror_mode": {
    "name": "ipython",
    "version": 2
   },
   "file_extension": ".py",
   "mimetype": "text/x-python",
   "name": "python",
   "nbconvert_exporter": "python",
   "pygments_lexer": "ipython2",
   "version": "2.7.6"
  }
 },
 "nbformat": 4,
 "nbformat_minor": 0
}