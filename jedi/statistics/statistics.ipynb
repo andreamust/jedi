{
 "cells": [
  {
   "cell_type": "markdown",
   "source": [
    "## Get statistics about the human-related properties"
   ],
   "metadata": {
    "collapsed": false,
    "pycharm": {
     "name": "#%% md\n"
    }
   }
  },
  {
   "cell_type": "code",
   "execution_count": 7,
   "metadata": {
    "collapsed": true,
    "pycharm": {
     "name": "#%%\n"
    }
   },
   "outputs": [
    {
     "name": "stdout",
     "output_type": "stream",
     "text": [
      "    top_10_o\n",
      "0  366608446\n",
      "1  312249215\n",
      "2  382344985\n",
      "3  382344709\n",
      "4  331752205\n",
      "5  400671622\n",
      "6  333763775\n",
      "7  345434550\n",
      "8  330270306\n",
      "9  333968565\n",
      "     top_10_p\n",
      "0  1792007341\n",
      "1  1791921781\n",
      "2    86177654\n",
      "3   316885327\n",
      "4  1791919815\n",
      "5  1791939835\n",
      "6  1791937737\n",
      "7  1791917717\n",
      "8  1791938838\n",
      "9  1791918818\n"
     ]
    }
   ],
   "source": [
    "import pandas as pd\n",
    "\n",
    "all_10_object = [366608446,\n",
    "                 312249215,\n",
    "                 382344985,\n",
    "                 382344709,\n",
    "                 331752205,\n",
    "                 400671622,\n",
    "                 333763775,\n",
    "                 345434550,\n",
    "                 330270306,\n",
    "                 333968565]\n",
    "\n",
    "all_10_property = [1792007341,\n",
    "                   1791921781,\n",
    "                   86177654,\n",
    "                   316885327,\n",
    "                   1791919815,\n",
    "                   1791939835,\n",
    "                   1791937737,\n",
    "                   1791917717,\n",
    "                   1791938838,\n",
    "                   1791918818]\n",
    "\n",
    "all_obj = pd.DataFrame(all_10_object, columns=['top_10_o'])\n",
    "all_prop = pd.DataFrame(all_10_property, columns=['top_10_p'])\n",
    "\n",
    "print(all_obj)\n",
    "print(all_prop)\n",
    "\n",
    "all_obj.to_csv('../../data/all_10_obj.csv', index=False)\n",
    "all_prop.to_csv('../../data/all_10_prop.csv', index=False)"
   ]
  },
  {
   "cell_type": "code",
   "execution_count": 8,
   "outputs": [
    {
     "name": "stdout",
     "output_type": "stream",
     "text": [
      "    top_10_o\n",
      "0  366608446\n",
      "1  312249215\n",
      "2  382344985\n",
      "3  333763775\n",
      "4  382344709\n",
      "5  345434550\n",
      "6  400671622\n",
      "7  330270306\n",
      "8  333968565\n",
      "9  342792056\n",
      "     top_10_p\n",
      "0    86177654\n",
      "1  1791917717\n",
      "2  1791937737\n",
      "3  1791919815\n",
      "4   316885327\n",
      "5  1791939835\n",
      "6  1791938838\n",
      "7  1791918818\n",
      "8  1791942519\n",
      "9  1791944245\n"
     ]
    }
   ],
   "source": [
    "kkkk_10_object = [366608446,\n",
    "                  312249215,\n",
    "                  382344985,\n",
    "                  333763775,\n",
    "                  382344709,\n",
    "                  345434550,\n",
    "                  400671622,\n",
    "                  330270306,\n",
    "                  333968565,\n",
    "                  342792056]\n",
    "\n",
    "kkkk_10_property = [86177654,\n",
    "                    1791917717,\n",
    "                    1791937737,\n",
    "                    1791919815,\n",
    "                    316885327,\n",
    "                    1791939835,\n",
    "                    1791938838,\n",
    "                    1791918818,\n",
    "                    1791942519,\n",
    "                    1791944245]\n",
    "\n",
    "kkkk_obj = pd.DataFrame(kkkk_10_object, columns=['top_10_o'])\n",
    "kkkk_prop = pd.DataFrame(kkkk_10_property, columns=['top_10_p'])\n",
    "\n",
    "print(kkkk_obj)\n",
    "print(kkkk_prop)\n",
    "\n",
    "all_obj.to_csv('../../data/400k_10_obj.csv', index=False)\n",
    "all_prop.to_csv('../../data/400k_10_prop.csv', index=False)"
   ],
   "metadata": {
    "collapsed": false,
    "pycharm": {
     "name": "#%%\n"
    }
   }
  }
 ],
 "metadata": {
  "kernelspec": {
   "display_name": "Python 3",
   "language": "python",
   "name": "python3"
  },
  "language_info": {
   "codemirror_mode": {
    "name": "ipython",
    "version": 2
   },
   "file_extension": ".py",
   "mimetype": "text/x-python",
   "name": "python",
   "nbconvert_exporter": "python",
   "pygments_lexer": "ipython2",
   "version": "2.7.6"
  }
 },
 "nbformat": 4,
 "nbformat_minor": 0
}